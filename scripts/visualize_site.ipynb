{
 "cells": [
  {
   "cell_type": "code",
   "execution_count": 1,
   "id": "cd39a37a-b98f-4249-97d9-8f91be278f4f",
   "metadata": {},
   "outputs": [],
   "source": [
    "import napari\n",
    "from pathlib import Path\n",
    "import h5py\n",
    "import yaml\n",
    "import pandas as pd\n",
    "from visualize_site import visualize_site"
   ]
  },
  {
   "cell_type": "code",
   "execution_count": 2,
   "id": "5a0652ad-0bdb-40b0-bd87-8cb401b125e5",
   "metadata": {},
   "outputs": [
    {
     "name": "stdout",
     "output_type": "stream",
     "text": [
      "2021-12-13 15:34:47,792 [INFO] WRITING LOG OUTPUT TO C:\\Users\\Adria\\.cellpose\\run.log\n"
     ]
    }
   ],
   "source": [
    "settings_path = Path(r\"Y:\\PhD\\Code\\Python\\lca\\scripts\\settings\\20211126_Sec16_live_settings.yml\")\n",
    "site = 1\n",
    "\n",
    "# load settings\n",
    "with open(settings_path, 'r') as stream:\n",
    "    settings = yaml.safe_load(stream)\n",
    "\n",
    "visualize_site(settings, site)"
   ]
  },
  {
   "cell_type": "code",
   "execution_count": null,
   "id": "952bb49c-78ed-4ff0-8127-47b6cfcb7aa0",
   "metadata": {},
   "outputs": [],
   "source": []
  }
 ],
 "metadata": {
  "kernelspec": {
   "display_name": "Python 3 (ipykernel)",
   "language": "python",
   "name": "python3"
  },
  "language_info": {
   "codemirror_mode": {
    "name": "ipython",
    "version": 3
   },
   "file_extension": ".py",
   "mimetype": "text/x-python",
   "name": "python",
   "nbconvert_exporter": "python",
   "pygments_lexer": "ipython3",
   "version": "3.9.7"
  }
 },
 "nbformat": 4,
 "nbformat_minor": 5
}
